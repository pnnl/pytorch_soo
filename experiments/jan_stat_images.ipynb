{
 "cells": [
  {
   "cell_type": "code",
   "execution_count": null,
   "metadata": {},
   "outputs": [],
   "source": [
    "import matplotlib.pyplot as plt\n",
    "from PIL import Image\n",
    "image_paths = [\n",
    "    \"jan_all_expts_hist.png\",\n",
    "    \"jan_sgd_hist.png\",\n",
    "    \"jan_fr_hist.png\",\n",
    "    \"jan_bfgs_hist.png\",\n",
    "]\n",
    "\n",
    "images = [Image.open(i) for i in image_paths]\n",
    "\n",
    "def crop_top(img: Image.Image, final_height_percent: float) -> Image.Image:\n",
    "    \"\"\"\n",
    "    We use the convention of height as measured from the bottom\n",
    "    \"\"\"\n",
    "    width, height = img.size\n",
    "    top = height * (1-final_height_percent)\n",
    "    cropped = img.crop((0, top, width, height))\n",
    "\n",
    "    return cropped\n",
    "\n",
    "cropped_images = [crop_top(i, 0.94) for i in images]"
   ]
  },
  {
   "cell_type": "code",
   "execution_count": null,
   "metadata": {},
   "outputs": [],
   "source": [
    "widths, heights = zip(*(i.size for i in cropped_images))\n",
    "assert len(set(widths)) == 1\n",
    "assert len(set(heights)) == 1"
   ]
  },
  {
   "cell_type": "code",
   "execution_count": null,
   "metadata": {},
   "outputs": [],
   "source": [
    "total_width = 2 * widths[0]\n",
    "total_height = 2 * heights[0]\n",
    "\n",
    "composite_image = Image.new(\"RGB\", (total_width, total_height))\n",
    "\n",
    "composite_image.paste(cropped_images[0], (0, 0))\n",
    "composite_image.paste(cropped_images[1], (widths[0], 0))\n",
    "composite_image.paste(cropped_images[2], (0, heights[0]))\n",
    "composite_image.paste(cropped_images[3], (widths[0], heights[0]))\n",
    "plt.figure(figsize=(16,9))\n",
    "plt.imshow(composite_image)\n",
    "composite_image.save(\"composite_image.png\")"
   ]
  },
  {
   "cell_type": "code",
   "execution_count": null,
   "metadata": {},
   "outputs": [],
   "source": []
  }
 ],
 "metadata": {
  "kernelspec": {
   "display_name": "ml20_env",
   "language": "python",
   "name": "python3"
  },
  "language_info": {
   "codemirror_mode": {
    "name": "ipython",
    "version": 3
   },
   "file_extension": ".py",
   "mimetype": "text/x-python",
   "name": "python",
   "nbconvert_exporter": "python",
   "pygments_lexer": "ipython3",
   "version": "3.10.6 (main, Nov 14 2022, 16:10:14) [GCC 11.3.0]"
  },
  "orig_nbformat": 4,
  "vscode": {
   "interpreter": {
    "hash": "0167b71c06170b09ecced200e50d8e6e90e424ceb5d30d6c8b1ca324c62a9c08"
   }
  }
 },
 "nbformat": 4,
 "nbformat_minor": 2
}
